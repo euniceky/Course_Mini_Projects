{
 "cells": [
  {
   "cell_type": "markdown",
   "metadata": {},
   "source": [
    "# Hospital Readmissions Data Analysis and Recommendations for Reduction\n",
    "\n",
    "### Background\n",
    "In October 2012, the US government's Center for Medicare and Medicaid Services (CMS) began reducing Medicare payments for Inpatient Prospective Payment System hospitals with excess readmissions. Excess readmissions are measured by a ratio, by dividing a hospital’s number of “predicted” 30-day readmissions for heart attack, heart failure, and pneumonia by the number that would be “expected,” based on an average hospital with similar patients. A ratio greater than 1 indicates excess readmissions.\n",
    "\n",
    "### Exercise Directions\n",
    "\n",
    "In this exercise, you will:\n",
    "+ critique a preliminary analysis of readmissions data and recommendations (provided below) for reducing the readmissions rate\n",
    "+ construct a statistically sound analysis and make recommendations of your own \n",
    "\n",
    "More instructions provided below. Include your work **in this notebook and submit to your Github account**. \n",
    "\n",
    "### Resources\n",
    "+ Data source: https://data.medicare.gov/Hospital-Compare/Hospital-Readmission-Reduction/9n3s-kdb3\n",
    "+ More information: http://www.cms.gov/Medicare/medicare-fee-for-service-payment/acuteinpatientPPS/readmissions-reduction-program.html\n",
    "+ Markdown syntax: http://nestacms.com/docs/creating-content/markdown-cheat-sheet\n",
    "****"
   ]
  },
  {
   "cell_type": "code",
   "execution_count": 265,
   "metadata": {},
   "outputs": [],
   "source": [
    "%matplotlib inline\n",
    "\n",
    "import pandas as pd\n",
    "import numpy as np\n",
    "import matplotlib.pyplot as plt\n",
    "import bokeh.plotting as bkp\n",
    "from mpl_toolkits.axes_grid1 import make_axes_locatable\n",
    "import seaborn as sns\n",
    "sns.set()"
   ]
  },
  {
   "cell_type": "code",
   "execution_count": 266,
   "metadata": {},
   "outputs": [],
   "source": [
    "# read in readmissions data provided\n",
    "hospital_read_df = pd.read_csv('data/cms_hospital_readmissions.csv')"
   ]
  },
  {
   "cell_type": "code",
   "execution_count": 267,
   "metadata": {},
   "outputs": [
    {
     "data": {
      "text/html": [
       "<div>\n",
       "<style scoped>\n",
       "    .dataframe tbody tr th:only-of-type {\n",
       "        vertical-align: middle;\n",
       "    }\n",
       "\n",
       "    .dataframe tbody tr th {\n",
       "        vertical-align: top;\n",
       "    }\n",
       "\n",
       "    .dataframe thead th {\n",
       "        text-align: right;\n",
       "    }\n",
       "</style>\n",
       "<table border=\"1\" class=\"dataframe\">\n",
       "  <thead>\n",
       "    <tr style=\"text-align: right;\">\n",
       "      <th></th>\n",
       "      <th>Hospital Name</th>\n",
       "      <th>Provider Number</th>\n",
       "      <th>State</th>\n",
       "      <th>Measure Name</th>\n",
       "      <th>Number of Discharges</th>\n",
       "      <th>Footnote</th>\n",
       "      <th>Excess Readmission Ratio</th>\n",
       "      <th>Predicted Readmission Rate</th>\n",
       "      <th>Expected Readmission Rate</th>\n",
       "      <th>Number of Readmissions</th>\n",
       "      <th>Start Date</th>\n",
       "      <th>End Date</th>\n",
       "    </tr>\n",
       "  </thead>\n",
       "  <tbody>\n",
       "    <tr>\n",
       "      <th>0</th>\n",
       "      <td>FROEDTERT MEMORIAL LUTHERAN HOSPITAL</td>\n",
       "      <td>520177</td>\n",
       "      <td>WI</td>\n",
       "      <td>READM-30-HIP-KNEE-HRRP</td>\n",
       "      <td>242</td>\n",
       "      <td>NaN</td>\n",
       "      <td>1.9095</td>\n",
       "      <td>10.8</td>\n",
       "      <td>5.6</td>\n",
       "      <td>38.0</td>\n",
       "      <td>07/01/2010</td>\n",
       "      <td>06/30/2013</td>\n",
       "    </tr>\n",
       "    <tr>\n",
       "      <th>1</th>\n",
       "      <td>PROVIDENCE HOSPITAL</td>\n",
       "      <td>90006</td>\n",
       "      <td>DC</td>\n",
       "      <td>READM-30-HIP-KNEE-HRRP</td>\n",
       "      <td>247</td>\n",
       "      <td>NaN</td>\n",
       "      <td>1.7521</td>\n",
       "      <td>9.2</td>\n",
       "      <td>5.3</td>\n",
       "      <td>33.0</td>\n",
       "      <td>07/01/2010</td>\n",
       "      <td>06/30/2013</td>\n",
       "    </tr>\n",
       "    <tr>\n",
       "      <th>2</th>\n",
       "      <td>BEAUFORT COUNTY MEMORIAL HOSPITAL</td>\n",
       "      <td>420067</td>\n",
       "      <td>SC</td>\n",
       "      <td>READM-30-HIP-KNEE-HRRP</td>\n",
       "      <td>586</td>\n",
       "      <td>NaN</td>\n",
       "      <td>1.5836</td>\n",
       "      <td>7.6</td>\n",
       "      <td>4.8</td>\n",
       "      <td>53.0</td>\n",
       "      <td>07/01/2010</td>\n",
       "      <td>06/30/2013</td>\n",
       "    </tr>\n",
       "  </tbody>\n",
       "</table>\n",
       "</div>"
      ],
      "text/plain": [
       "                          Hospital Name  Provider Number State  \\\n",
       "0  FROEDTERT MEMORIAL LUTHERAN HOSPITAL           520177    WI   \n",
       "1                   PROVIDENCE HOSPITAL            90006    DC   \n",
       "2     BEAUFORT COUNTY MEMORIAL HOSPITAL           420067    SC   \n",
       "\n",
       "             Measure Name Number of Discharges  Footnote  \\\n",
       "0  READM-30-HIP-KNEE-HRRP                  242       NaN   \n",
       "1  READM-30-HIP-KNEE-HRRP                  247       NaN   \n",
       "2  READM-30-HIP-KNEE-HRRP                  586       NaN   \n",
       "\n",
       "   Excess Readmission Ratio  Predicted Readmission Rate  \\\n",
       "0                    1.9095                        10.8   \n",
       "1                    1.7521                         9.2   \n",
       "2                    1.5836                         7.6   \n",
       "\n",
       "   Expected Readmission Rate  Number of Readmissions  Start Date    End Date  \n",
       "0                        5.6                    38.0  07/01/2010  06/30/2013  \n",
       "1                        5.3                    33.0  07/01/2010  06/30/2013  \n",
       "2                        4.8                    53.0  07/01/2010  06/30/2013  "
      ]
     },
     "execution_count": 267,
     "metadata": {},
     "output_type": "execute_result"
    }
   ],
   "source": [
    "hospital_read_df.head(3)"
   ]
  },
  {
   "cell_type": "code",
   "execution_count": 268,
   "metadata": {},
   "outputs": [
    {
     "data": {
      "text/html": [
       "<div>\n",
       "<style scoped>\n",
       "    .dataframe tbody tr th:only-of-type {\n",
       "        vertical-align: middle;\n",
       "    }\n",
       "\n",
       "    .dataframe tbody tr th {\n",
       "        vertical-align: top;\n",
       "    }\n",
       "\n",
       "    .dataframe thead th {\n",
       "        text-align: right;\n",
       "    }\n",
       "</style>\n",
       "<table border=\"1\" class=\"dataframe\">\n",
       "  <thead>\n",
       "    <tr style=\"text-align: right;\">\n",
       "      <th></th>\n",
       "      <th>Provider Number</th>\n",
       "      <th>Footnote</th>\n",
       "      <th>Excess Readmission Ratio</th>\n",
       "      <th>Predicted Readmission Rate</th>\n",
       "      <th>Expected Readmission Rate</th>\n",
       "      <th>Number of Readmissions</th>\n",
       "    </tr>\n",
       "  </thead>\n",
       "  <tbody>\n",
       "    <tr>\n",
       "      <th>count</th>\n",
       "      <td>16860.000000</td>\n",
       "      <td>3129.000000</td>\n",
       "      <td>13731.000000</td>\n",
       "      <td>13731.000000</td>\n",
       "      <td>13731.000000</td>\n",
       "      <td>11497.000000</td>\n",
       "    </tr>\n",
       "    <tr>\n",
       "      <th>mean</th>\n",
       "      <td>263516.943654</td>\n",
       "      <td>2.905401</td>\n",
       "      <td>1.002582</td>\n",
       "      <td>16.916532</td>\n",
       "      <td>16.866135</td>\n",
       "      <td>63.633731</td>\n",
       "    </tr>\n",
       "    <tr>\n",
       "      <th>std</th>\n",
       "      <td>160146.191702</td>\n",
       "      <td>2.074384</td>\n",
       "      <td>0.091088</td>\n",
       "      <td>6.197542</td>\n",
       "      <td>5.989652</td>\n",
       "      <td>59.540296</td>\n",
       "    </tr>\n",
       "    <tr>\n",
       "      <th>min</th>\n",
       "      <td>10001.000000</td>\n",
       "      <td>1.000000</td>\n",
       "      <td>0.549500</td>\n",
       "      <td>2.700000</td>\n",
       "      <td>2.900000</td>\n",
       "      <td>11.000000</td>\n",
       "    </tr>\n",
       "    <tr>\n",
       "      <th>25%</th>\n",
       "      <td>110181.500000</td>\n",
       "      <td>1.000000</td>\n",
       "      <td>0.949500</td>\n",
       "      <td>15.200000</td>\n",
       "      <td>15.800000</td>\n",
       "      <td>24.000000</td>\n",
       "    </tr>\n",
       "    <tr>\n",
       "      <th>50%</th>\n",
       "      <td>250157.000000</td>\n",
       "      <td>1.000000</td>\n",
       "      <td>0.997100</td>\n",
       "      <td>18.500000</td>\n",
       "      <td>18.500000</td>\n",
       "      <td>45.000000</td>\n",
       "    </tr>\n",
       "    <tr>\n",
       "      <th>75%</th>\n",
       "      <td>390138.250000</td>\n",
       "      <td>5.000000</td>\n",
       "      <td>1.052350</td>\n",
       "      <td>21.100000</td>\n",
       "      <td>21.100000</td>\n",
       "      <td>82.000000</td>\n",
       "    </tr>\n",
       "    <tr>\n",
       "      <th>max</th>\n",
       "      <td>670091.000000</td>\n",
       "      <td>7.000000</td>\n",
       "      <td>1.909500</td>\n",
       "      <td>32.800000</td>\n",
       "      <td>29.400000</td>\n",
       "      <td>879.000000</td>\n",
       "    </tr>\n",
       "  </tbody>\n",
       "</table>\n",
       "</div>"
      ],
      "text/plain": [
       "       Provider Number     Footnote  Excess Readmission Ratio  \\\n",
       "count     16860.000000  3129.000000              13731.000000   \n",
       "mean     263516.943654     2.905401                  1.002582   \n",
       "std      160146.191702     2.074384                  0.091088   \n",
       "min       10001.000000     1.000000                  0.549500   \n",
       "25%      110181.500000     1.000000                  0.949500   \n",
       "50%      250157.000000     1.000000                  0.997100   \n",
       "75%      390138.250000     5.000000                  1.052350   \n",
       "max      670091.000000     7.000000                  1.909500   \n",
       "\n",
       "       Predicted Readmission Rate  Expected Readmission Rate  \\\n",
       "count                13731.000000               13731.000000   \n",
       "mean                    16.916532                  16.866135   \n",
       "std                      6.197542                   5.989652   \n",
       "min                      2.700000                   2.900000   \n",
       "25%                     15.200000                  15.800000   \n",
       "50%                     18.500000                  18.500000   \n",
       "75%                     21.100000                  21.100000   \n",
       "max                     32.800000                  29.400000   \n",
       "\n",
       "       Number of Readmissions  \n",
       "count            11497.000000  \n",
       "mean                63.633731  \n",
       "std                 59.540296  \n",
       "min                 11.000000  \n",
       "25%                 24.000000  \n",
       "50%                 45.000000  \n",
       "75%                 82.000000  \n",
       "max                879.000000  "
      ]
     },
     "execution_count": 268,
     "metadata": {},
     "output_type": "execute_result"
    }
   ],
   "source": [
    "hospital_read_df.describe()"
   ]
  },
  {
   "cell_type": "code",
   "execution_count": 5,
   "metadata": {},
   "outputs": [
    {
     "data": {
      "text/plain": [
       "Hospital Name                     0\n",
       "Provider Number                   0\n",
       "State                             0\n",
       "Measure Name                      0\n",
       "Number of Discharges              0\n",
       "Footnote                      13731\n",
       "Excess Readmission Ratio       3129\n",
       "Predicted Readmission Rate     3129\n",
       "Expected Readmission Rate      3129\n",
       "Number of Readmissions         5363\n",
       "Start Date                        0\n",
       "End Date                          0\n",
       "dtype: int64"
      ]
     },
     "execution_count": 5,
     "metadata": {},
     "output_type": "execute_result"
    }
   ],
   "source": [
    "hospital_read_df.isnull().sum()"
   ]
  },
  {
   "cell_type": "markdown",
   "metadata": {},
   "source": [
    "****\n",
    "## Preliminary Analysis"
   ]
  },
  {
   "cell_type": "code",
   "execution_count": 269,
   "metadata": {},
   "outputs": [
    {
     "data": {
      "text/plain": [
       "3048"
      ]
     },
     "execution_count": 269,
     "metadata": {},
     "output_type": "execute_result"
    }
   ],
   "source": [
    "# Select the part of dataset where the Number of Discharges is \"Not Available\"\n",
    "NA_df = hospital_read_df[hospital_read_df['Number of Discharges'] == 'Not Available']\n",
    "NA_df[\"Excess Readmission Ratio\"].isnull().sum()"
   ]
  },
  {
   "cell_type": "code",
   "execution_count": 271,
   "metadata": {},
   "outputs": [
    {
     "data": {
      "text/html": [
       "<div>\n",
       "<style scoped>\n",
       "    .dataframe tbody tr th:only-of-type {\n",
       "        vertical-align: middle;\n",
       "    }\n",
       "\n",
       "    .dataframe tbody tr th {\n",
       "        vertical-align: top;\n",
       "    }\n",
       "\n",
       "    .dataframe thead th {\n",
       "        text-align: right;\n",
       "    }\n",
       "</style>\n",
       "<table border=\"1\" class=\"dataframe\">\n",
       "  <thead>\n",
       "    <tr style=\"text-align: right;\">\n",
       "      <th></th>\n",
       "      <th>Provider Number</th>\n",
       "      <th>Footnote</th>\n",
       "      <th>Excess Readmission Ratio</th>\n",
       "      <th>Predicted Readmission Rate</th>\n",
       "      <th>Expected Readmission Rate</th>\n",
       "      <th>Number of Readmissions</th>\n",
       "    </tr>\n",
       "  </thead>\n",
       "  <tbody>\n",
       "    <tr>\n",
       "      <th>count</th>\n",
       "      <td>5282.000000</td>\n",
       "      <td>3048.000000</td>\n",
       "      <td>2234.000000</td>\n",
       "      <td>2234.000000</td>\n",
       "      <td>2234.000000</td>\n",
       "      <td>0.0</td>\n",
       "    </tr>\n",
       "    <tr>\n",
       "      <th>mean</th>\n",
       "      <td>276307.995456</td>\n",
       "      <td>2.796588</td>\n",
       "      <td>0.977254</td>\n",
       "      <td>11.421441</td>\n",
       "      <td>11.722023</td>\n",
       "      <td>NaN</td>\n",
       "    </tr>\n",
       "    <tr>\n",
       "      <th>std</th>\n",
       "      <td>171111.152565</td>\n",
       "      <td>1.989955</td>\n",
       "      <td>0.081908</td>\n",
       "      <td>6.712138</td>\n",
       "      <td>6.897330</td>\n",
       "      <td>NaN</td>\n",
       "    </tr>\n",
       "    <tr>\n",
       "      <th>min</th>\n",
       "      <td>10005.000000</td>\n",
       "      <td>1.000000</td>\n",
       "      <td>0.629900</td>\n",
       "      <td>2.900000</td>\n",
       "      <td>2.900000</td>\n",
       "      <td>NaN</td>\n",
       "    </tr>\n",
       "    <tr>\n",
       "      <th>25%</th>\n",
       "      <td>110233.250000</td>\n",
       "      <td>1.000000</td>\n",
       "      <td>0.937050</td>\n",
       "      <td>5.100000</td>\n",
       "      <td>5.200000</td>\n",
       "      <td>NaN</td>\n",
       "    </tr>\n",
       "    <tr>\n",
       "      <th>50%</th>\n",
       "      <td>270074.000000</td>\n",
       "      <td>1.000000</td>\n",
       "      <td>0.974600</td>\n",
       "      <td>7.200000</td>\n",
       "      <td>6.800000</td>\n",
       "      <td>NaN</td>\n",
       "    </tr>\n",
       "    <tr>\n",
       "      <th>75%</th>\n",
       "      <td>430039.750000</td>\n",
       "      <td>5.000000</td>\n",
       "      <td>1.016075</td>\n",
       "      <td>18.000000</td>\n",
       "      <td>18.600000</td>\n",
       "      <td>NaN</td>\n",
       "    </tr>\n",
       "    <tr>\n",
       "      <th>max</th>\n",
       "      <td>670091.000000</td>\n",
       "      <td>5.000000</td>\n",
       "      <td>1.328700</td>\n",
       "      <td>29.900000</td>\n",
       "      <td>29.400000</td>\n",
       "      <td>NaN</td>\n",
       "    </tr>\n",
       "  </tbody>\n",
       "</table>\n",
       "</div>"
      ],
      "text/plain": [
       "       Provider Number     Footnote  Excess Readmission Ratio  \\\n",
       "count      5282.000000  3048.000000               2234.000000   \n",
       "mean     276307.995456     2.796588                  0.977254   \n",
       "std      171111.152565     1.989955                  0.081908   \n",
       "min       10005.000000     1.000000                  0.629900   \n",
       "25%      110233.250000     1.000000                  0.937050   \n",
       "50%      270074.000000     1.000000                  0.974600   \n",
       "75%      430039.750000     5.000000                  1.016075   \n",
       "max      670091.000000     5.000000                  1.328700   \n",
       "\n",
       "       Predicted Readmission Rate  Expected Readmission Rate  \\\n",
       "count                 2234.000000                2234.000000   \n",
       "mean                    11.421441                  11.722023   \n",
       "std                      6.712138                   6.897330   \n",
       "min                      2.900000                   2.900000   \n",
       "25%                      5.100000                   5.200000   \n",
       "50%                      7.200000                   6.800000   \n",
       "75%                     18.000000                  18.600000   \n",
       "max                     29.900000                  29.400000   \n",
       "\n",
       "       Number of Readmissions  \n",
       "count                     0.0  \n",
       "mean                      NaN  \n",
       "std                       NaN  \n",
       "min                       NaN  \n",
       "25%                       NaN  \n",
       "50%                       NaN  \n",
       "75%                       NaN  \n",
       "max                       NaN  "
      ]
     },
     "execution_count": 271,
     "metadata": {},
     "output_type": "execute_result"
    }
   ],
   "source": [
    "NA_df.describe()"
   ]
  },
  {
   "cell_type": "code",
   "execution_count": 16,
   "metadata": {},
   "outputs": [
    {
     "name": "stderr",
     "output_type": "stream",
     "text": [
      "/Users/kkim14/anaconda3/lib/python3.7/site-packages/pandas/core/indexing.py:543: SettingWithCopyWarning: \n",
      "A value is trying to be set on a copy of a slice from a DataFrame.\n",
      "Try using .loc[row_indexer,col_indexer] = value instead\n",
      "\n",
      "See the caveats in the documentation: http://pandas.pydata.org/pandas-docs/stable/indexing.html#indexing-view-versus-copy\n",
      "  self.obj[item] = s\n"
     ]
    }
   ],
   "source": [
    "# deal with missing and inconvenient portions of data \n",
    "clean_hospital_read_df = hospital_read_df[hospital_read_df['Number of Discharges'] != 'Not Available']\n",
    "clean_hospital_read_df.loc[:, 'Number of Discharges'] = clean_hospital_read_df['Number of Discharges'].astype(int)\n",
    "clean_hospital_read_df = clean_hospital_read_df.sort_values('Number of Discharges')"
   ]
  },
  {
   "cell_type": "code",
   "execution_count": 315,
   "metadata": {},
   "outputs": [
    {
     "data": {
      "text/html": [
       "<div>\n",
       "<style scoped>\n",
       "    .dataframe tbody tr th:only-of-type {\n",
       "        vertical-align: middle;\n",
       "    }\n",
       "\n",
       "    .dataframe tbody tr th {\n",
       "        vertical-align: top;\n",
       "    }\n",
       "\n",
       "    .dataframe thead th {\n",
       "        text-align: right;\n",
       "    }\n",
       "</style>\n",
       "<table border=\"1\" class=\"dataframe\">\n",
       "  <thead>\n",
       "    <tr style=\"text-align: right;\">\n",
       "      <th></th>\n",
       "      <th>Provider_Number</th>\n",
       "      <th>Number_of_Discharges</th>\n",
       "      <th>Footnote</th>\n",
       "      <th>Excess_Readmission_Ratio</th>\n",
       "      <th>Predicted_Readmission_Rate</th>\n",
       "      <th>Expected_Readmission_Rate</th>\n",
       "      <th>Number_of_Readmissions</th>\n",
       "    </tr>\n",
       "  </thead>\n",
       "  <tbody>\n",
       "    <tr>\n",
       "      <th>count</th>\n",
       "      <td>11578.000000</td>\n",
       "      <td>11578.000000</td>\n",
       "      <td>81.0</td>\n",
       "      <td>11497.000000</td>\n",
       "      <td>11497.000000</td>\n",
       "      <td>11497.000000</td>\n",
       "      <td>11497.000000</td>\n",
       "    </tr>\n",
       "    <tr>\n",
       "      <th>mean</th>\n",
       "      <td>257681.537226</td>\n",
       "      <td>362.909397</td>\n",
       "      <td>7.0</td>\n",
       "      <td>1.007504</td>\n",
       "      <td>17.984292</td>\n",
       "      <td>17.865695</td>\n",
       "      <td>63.633731</td>\n",
       "    </tr>\n",
       "    <tr>\n",
       "      <th>std</th>\n",
       "      <td>154542.645531</td>\n",
       "      <td>309.176945</td>\n",
       "      <td>0.0</td>\n",
       "      <td>0.091964</td>\n",
       "      <td>5.487651</td>\n",
       "      <td>5.240749</td>\n",
       "      <td>59.540296</td>\n",
       "    </tr>\n",
       "    <tr>\n",
       "      <th>min</th>\n",
       "      <td>10001.000000</td>\n",
       "      <td>0.000000</td>\n",
       "      <td>7.0</td>\n",
       "      <td>0.549500</td>\n",
       "      <td>2.700000</td>\n",
       "      <td>3.900000</td>\n",
       "      <td>11.000000</td>\n",
       "    </tr>\n",
       "    <tr>\n",
       "      <th>25%</th>\n",
       "      <td>110129.750000</td>\n",
       "      <td>157.000000</td>\n",
       "      <td>7.0</td>\n",
       "      <td>0.952600</td>\n",
       "      <td>16.300000</td>\n",
       "      <td>16.600000</td>\n",
       "      <td>24.000000</td>\n",
       "    </tr>\n",
       "    <tr>\n",
       "      <th>50%</th>\n",
       "      <td>250040.000000</td>\n",
       "      <td>280.000000</td>\n",
       "      <td>7.0</td>\n",
       "      <td>1.003500</td>\n",
       "      <td>19.000000</td>\n",
       "      <td>19.000000</td>\n",
       "      <td>45.000000</td>\n",
       "    </tr>\n",
       "    <tr>\n",
       "      <th>75%</th>\n",
       "      <td>390041.000000</td>\n",
       "      <td>472.750000</td>\n",
       "      <td>7.0</td>\n",
       "      <td>1.058100</td>\n",
       "      <td>21.500000</td>\n",
       "      <td>21.400000</td>\n",
       "      <td>82.000000</td>\n",
       "    </tr>\n",
       "    <tr>\n",
       "      <th>max</th>\n",
       "      <td>670082.000000</td>\n",
       "      <td>6793.000000</td>\n",
       "      <td>7.0</td>\n",
       "      <td>1.909500</td>\n",
       "      <td>32.800000</td>\n",
       "      <td>28.000000</td>\n",
       "      <td>879.000000</td>\n",
       "    </tr>\n",
       "  </tbody>\n",
       "</table>\n",
       "</div>"
      ],
      "text/plain": [
       "       Provider_Number  Number_of_Discharges  Footnote  \\\n",
       "count     11578.000000          11578.000000      81.0   \n",
       "mean     257681.537226            362.909397       7.0   \n",
       "std      154542.645531            309.176945       0.0   \n",
       "min       10001.000000              0.000000       7.0   \n",
       "25%      110129.750000            157.000000       7.0   \n",
       "50%      250040.000000            280.000000       7.0   \n",
       "75%      390041.000000            472.750000       7.0   \n",
       "max      670082.000000           6793.000000       7.0   \n",
       "\n",
       "       Excess_Readmission_Ratio  Predicted_Readmission_Rate  \\\n",
       "count              11497.000000                11497.000000   \n",
       "mean                   1.007504                   17.984292   \n",
       "std                    0.091964                    5.487651   \n",
       "min                    0.549500                    2.700000   \n",
       "25%                    0.952600                   16.300000   \n",
       "50%                    1.003500                   19.000000   \n",
       "75%                    1.058100                   21.500000   \n",
       "max                    1.909500                   32.800000   \n",
       "\n",
       "       Expected_Readmission_Rate  Number_of_Readmissions  \n",
       "count               11497.000000            11497.000000  \n",
       "mean                   17.865695               63.633731  \n",
       "std                     5.240749               59.540296  \n",
       "min                     3.900000               11.000000  \n",
       "25%                    16.600000               24.000000  \n",
       "50%                    19.000000               45.000000  \n",
       "75%                    21.400000               82.000000  \n",
       "max                    28.000000              879.000000  "
      ]
     },
     "execution_count": 315,
     "metadata": {},
     "output_type": "execute_result"
    }
   ],
   "source": [
    "clean_hospital_read_df.describe()"
   ]
  },
  {
   "cell_type": "code",
   "execution_count": 275,
   "metadata": {},
   "outputs": [],
   "source": [
    "under100 = clean_hospital_read_df[clean_hospital_read_df.Number_of_Discharges<300][[\"Number_of_Discharges\", \"Excess_Readmission_Ratio\"]]\n"
   ]
  },
  {
   "cell_type": "code",
   "execution_count": 276,
   "metadata": {},
   "outputs": [
    {
     "data": {
      "text/html": [
       "<div>\n",
       "<style scoped>\n",
       "    .dataframe tbody tr th:only-of-type {\n",
       "        vertical-align: middle;\n",
       "    }\n",
       "\n",
       "    .dataframe tbody tr th {\n",
       "        vertical-align: top;\n",
       "    }\n",
       "\n",
       "    .dataframe thead th {\n",
       "        text-align: right;\n",
       "    }\n",
       "</style>\n",
       "<table border=\"1\" class=\"dataframe\">\n",
       "  <thead>\n",
       "    <tr style=\"text-align: right;\">\n",
       "      <th></th>\n",
       "      <th>Excess_Readmission_Ratio</th>\n",
       "    </tr>\n",
       "    <tr>\n",
       "      <th>Number_of_Discharges</th>\n",
       "      <th></th>\n",
       "    </tr>\n",
       "  </thead>\n",
       "  <tbody>\n",
       "    <tr>\n",
       "      <th>0</th>\n",
       "      <td>0.0000</td>\n",
       "    </tr>\n",
       "    <tr>\n",
       "      <th>25</th>\n",
       "      <td>1.0914</td>\n",
       "    </tr>\n",
       "    <tr>\n",
       "      <th>27</th>\n",
       "      <td>1.0961</td>\n",
       "    </tr>\n",
       "    <tr>\n",
       "      <th>28</th>\n",
       "      <td>1.0934</td>\n",
       "    </tr>\n",
       "    <tr>\n",
       "      <th>29</th>\n",
       "      <td>1.0908</td>\n",
       "    </tr>\n",
       "  </tbody>\n",
       "</table>\n",
       "</div>"
      ],
      "text/plain": [
       "                      Excess_Readmission_Ratio\n",
       "Number_of_Discharges                          \n",
       "0                                       0.0000\n",
       "25                                      1.0914\n",
       "27                                      1.0961\n",
       "28                                      1.0934\n",
       "29                                      1.0908"
      ]
     },
     "execution_count": 276,
     "metadata": {},
     "output_type": "execute_result"
    }
   ],
   "source": [
    "clean_hospital_read_df.groupby(\"Number_of_Discharges\").agg({\"Excess_Readmission_Ratio\": \"sum\"}).head()"
   ]
  },
  {
   "cell_type": "code",
   "execution_count": 277,
   "metadata": {},
   "outputs": [
    {
     "data": {
      "text/plain": [
       "81"
      ]
     },
     "execution_count": 277,
     "metadata": {},
     "output_type": "execute_result"
    }
   ],
   "source": [
    "clean_hospital_read_df.Excess_Readmission_Ratio.isnull().sum()"
   ]
  },
  {
   "cell_type": "code",
   "execution_count": 278,
   "metadata": {},
   "outputs": [
    {
     "data": {
      "text/plain": [
       "0     81\n",
       "25     1\n",
       "27     1\n",
       "28     1\n",
       "29     1\n",
       "Name: Number_of_Discharges, dtype: int64"
      ]
     },
     "execution_count": 278,
     "metadata": {},
     "output_type": "execute_result"
    }
   ],
   "source": [
    "clean_hospital_read_df.Number_of_Discharges.value_counts().sort_index()[:5]"
   ]
  },
  {
   "cell_type": "code",
   "execution_count": 279,
   "metadata": {},
   "outputs": [],
   "source": [
    "clean_hospital_read_df.columns = clean_hospital_read_df.columns.str.replace(' ', '_')"
   ]
  },
  {
   "cell_type": "code",
   "execution_count": 286,
   "metadata": {},
   "outputs": [],
   "source": [
    "under100 = clean_hospital_read_df[clean_hospital_read_df.Number_of_Discharges<100][[\"Number_of_Discharges\", \"Excess_Readmission_Ratio\"]]\n",
    "under100over1 = under100[under100.Number_of_Discharges !=0]\n",
    "\n",
    "under100over1 = under100over1.set_index(\"Number_of_Discharges\")"
   ]
  },
  {
   "cell_type": "code",
   "execution_count": 287,
   "metadata": {},
   "outputs": [
    {
     "data": {
      "text/plain": [
       "Excess_Readmission_Ratio    0.632155\n",
       "dtype: float64"
      ]
     },
     "execution_count": 287,
     "metadata": {},
     "output_type": "execute_result"
    }
   ],
   "source": [
    "(under100over1[under100over1 >1].count())/under100over1.count()"
   ]
  },
  {
   "cell_type": "code",
   "execution_count": 288,
   "metadata": {},
   "outputs": [
    {
     "data": {
      "text/plain": [
       "Excess_Readmission_Ratio    1.022618\n",
       "dtype: float64"
      ]
     },
     "execution_count": 288,
     "metadata": {},
     "output_type": "execute_result"
    }
   ],
   "source": [
    "under100over1.mean()"
   ]
  },
  {
   "cell_type": "code",
   "execution_count": 289,
   "metadata": {},
   "outputs": [
    {
     "data": {
      "text/plain": [
       "<matplotlib.axes._subplots.AxesSubplot at 0x1a25117048>"
      ]
     },
     "execution_count": 289,
     "metadata": {},
     "output_type": "execute_result"
    },
    {
     "data": {
      "image/png": "[encoded data removed]",
      "text/plain": [
       "<Figure size 432x288 with 1 Axes>"
      ]
     },
     "metadata": {},
     "output_type": "display_data"
    }
   ],
   "source": [
    "under100over1[under100over1 >1].boxplot()"
   ]
  },
  {
   "cell_type": "code",
   "execution_count": 290,
   "metadata": {},
   "outputs": [
    {
     "name": "stderr",
     "output_type": "stream",
     "text": [
      "/Users/kkim14/anaconda3/lib/python3.7/site-packages/scipy/stats/stats.py:1713: FutureWarning: Using a non-tuple sequence for multidimensional indexing is deprecated; use `arr[tuple(seq)]` instead of `arr[seq]`. In the future this will be interpreted as an array index, `arr[np.array(seq)]`, which will result either in an error or a different result.\n",
      "  return np.add.reduce(sorted[indexer] * weights, axis=axis) / sumval\n"
     ]
    },
    {
     "data": {
      "text/plain": [
       "<seaborn.axisgrid.FacetGrid at 0x1a252f4b38>"
      ]
     },
     "execution_count": 290,
     "metadata": {},
     "output_type": "execute_result"
    },
    {
     "data": {
      "image/png": "[encoded data removed]",
      "text/plain": [
       "<Figure size 360x360 with 1 Axes>"
      ]
     },
     "metadata": {},
     "output_type": "display_data"
    }
   ],
   "source": [
    "under100over1=under100over1.reset_index()\n",
    "sns.lmplot(\"Number_of_Discharges\", \"Excess_Readmission_Ratio\", under100over1)"
   ]
  },
  {
   "cell_type": "code",
   "execution_count": 292,
   "metadata": {},
   "outputs": [],
   "source": [
    "over1000 = clean_hospital_read_df[clean_hospital_read_df.Number_of_Discharges>1000][[\"Number_of_Discharges\", \"Excess_Readmission_Ratio\"]]\n",
    "over1000=over1000.set_index(\"Number_of_Discharges\")"
   ]
  },
  {
   "cell_type": "code",
   "execution_count": 293,
   "metadata": {},
   "outputs": [
    {
     "data": {
      "text/plain": [
       "Excess_Readmission_Ratio    0.978335\n",
       "dtype: float64"
      ]
     },
     "execution_count": 293,
     "metadata": {},
     "output_type": "execute_result"
    }
   ],
   "source": [
    "over1000.mean()"
   ]
  },
  {
   "cell_type": "code",
   "execution_count": 294,
   "metadata": {},
   "outputs": [
    {
     "data": {
      "text/plain": [
       "Excess_Readmission_Ratio    0.444924\n",
       "dtype: float64"
      ]
     },
     "execution_count": 294,
     "metadata": {},
     "output_type": "execute_result"
    }
   ],
   "source": [
    "(over1000[over1000 >1].count())/over1000.count()"
   ]
  },
  {
   "cell_type": "code",
   "execution_count": 295,
   "metadata": {},
   "outputs": [
    {
     "data": {
      "text/plain": [
       "<matplotlib.axes._subplots.AxesSubplot at 0x1a25356e10>"
      ]
     },
     "execution_count": 295,
     "metadata": {},
     "output_type": "execute_result"
    },
    {
     "data": {
      "image/png": "[encoded data removed]",
      "text/plain": [
       "<Figure size 432x288 with 1 Axes>"
      ]
     },
     "metadata": {},
     "output_type": "display_data"
    }
   ],
   "source": [
    "over1000[over1000 >1].boxplot()"
   ]
  },
  {
   "cell_type": "code",
   "execution_count": 296,
   "metadata": {},
   "outputs": [
    {
     "name": "stderr",
     "output_type": "stream",
     "text": [
      "/Users/kkim14/anaconda3/lib/python3.7/site-packages/scipy/stats/stats.py:1713: FutureWarning: Using a non-tuple sequence for multidimensional indexing is deprecated; use `arr[tuple(seq)]` instead of `arr[seq]`. In the future this will be interpreted as an array index, `arr[np.array(seq)]`, which will result either in an error or a different result.\n",
      "  return np.add.reduce(sorted[indexer] * weights, axis=axis) / sumval\n"
     ]
    },
    {
     "data": {
      "text/plain": [
       "(1000, 2500)"
      ]
     },
     "execution_count": 296,
     "metadata": {},
     "output_type": "execute_result"
    },
    {
     "data": {
      "image/png": "[encoded data removed]",
      "text/plain": [
       "<Figure size 360x360 with 1 Axes>"
      ]
     },
     "metadata": {},
     "output_type": "display_data"
    }
   ],
   "source": [
    "over1000=over1000.reset_index()\n",
    "sns.lmplot(\"Number_of_Discharges\", \"Excess_Readmission_Ratio\", over1000)\n",
    "plt.xlim(1000, 2500)"
   ]
  },
  {
   "cell_type": "code",
   "execution_count": null,
   "metadata": {},
   "outputs": [],
   "source": []
  },
  {
   "cell_type": "code",
   "execution_count": 298,
   "metadata": {},
   "outputs": [
    {
     "data": {
      "image/png": "[encoded data removed]",
      "text/plain": [
       "<Figure size 576x360 with 1 Axes>"
      ]
     },
     "metadata": {},
     "output_type": "display_data"
    }
   ],
   "source": [
    "# generate a scatterplot for number of discharges vs. excess rate of readmissions\n",
    "# lists work better with matplotlib scatterplot function\n",
    "x = [a for a in clean_hospital_read_df['Number_of_Discharges'][81:-3]]\n",
    "y = list(clean_hospital_read_df['Excess_Readmission_Ratio'][81:-3])\n",
    "\n",
    "fig, ax = plt.subplots(figsize=(8,5))\n",
    "ax.scatter(x, y,alpha=0.2)\n",
    "\n",
    "ax.fill_between([0,350], 1.15, 2, facecolor='red', alpha = .15, interpolate=True)\n",
    "ax.fill_between([800,2500], .5, .95, facecolor='green', alpha = .15, interpolate=True)\n",
    "\n",
    "ax.set_xlim([0, max(x)])\n",
    "ax.set_xlabel('Number of discharges', fontsize=12)\n",
    "ax.set_ylabel('Excess rate of readmissions', fontsize=12)\n",
    "ax.set_title('Scatterplot of number of discharges vs. excess rate of readmissions', fontsize=14)\n",
    "\n",
    "ax.grid(True)\n",
    "fig.tight_layout()"
   ]
  },
  {
   "cell_type": "markdown",
   "metadata": {},
   "source": [
    "****\n",
    "\n",
    "## Preliminary Report\n",
    "\n",
    "Read the following results/report. While you are reading it, think about if the conclusions are correct, incorrect, misleading or unfounded. Think about what you would change or what additional analyses you would perform.\n",
    "\n",
    "**A. Initial observations based on the plot above**\n",
    "+ Overall, rate of readmissions is trending down with increasing number of discharges\n",
    "+ With lower number of discharges, there is a greater incidence of excess rate of readmissions (area shaded red)\n",
    "+ With higher number of discharges, there is a greater incidence of lower rates of readmissions (area shaded green) \n",
    "\n",
    "**B. Statistics**\n",
    "+ In hospitals/facilities with number of discharges < 100, mean excess readmission rate is 1.023 and 63% have excess readmission rate greater than 1 \n",
    "+ In hospitals/facilities with number of discharges > 1000, mean excess readmission rate is 0.978 and 44% have excess readmission rate greater than 1 \n",
    "\n",
    "**C. Conclusions**\n",
    "+ There is a significant correlation between hospital capacity (number of discharges) and readmission rates. \n",
    "+ Smaller hospitals/facilities may be lacking necessary resources to ensure quality care and prevent complications that lead to readmissions.\n",
    "\n",
    "**D. Regulatory policy recommendations**\n",
    "+ Hospitals/facilties with small capacity (< 300) should be required to demonstrate upgraded resource allocation for quality care to continue operation.\n",
    "+ Directives and incentives should be provided for consolidation of hospitals and facilities to have a smaller number of them with higher capacity and number of discharges."
   ]
  },
  {
   "cell_type": "markdown",
   "metadata": {},
   "source": [
    "****\n",
    "### Exercise\n",
    "\n",
    "Include your work on the following **in this notebook and submit to your Github account**. \n",
    "\n",
    "A. Do you agree with the above analysis and recommendations? Why or why not?\n",
    "   \n",
    "B. Provide support for your arguments and your own recommendations with a statistically sound analysis:\n",
    "\n",
    "   1. Setup an appropriate hypothesis test.\n",
    "   2. Compute and report the observed significance value (or p-value).\n",
    "   3. Report statistical significance for $\\alpha$ = .01. \n",
    "   4. Discuss statistical significance and practical significance. Do they differ here? How does this change your recommendation to the client?\n",
    "   5. Look at the scatterplot above. \n",
    "      - What are the advantages and disadvantages of using this plot to convey information?\n",
    "      - Construct another plot that conveys the same information in a more direct manner.\n",
    "\n",
    "\n",
    "\n",
    "You can compose in notebook cells using Markdown: \n",
    "+ In the control panel at the top, choose Cell > Cell Type > Markdown\n",
    "+ Markdown syntax: http://nestacms.com/docs/creating-content/markdown-cheat-sheet\n",
    "****"
   ]
  },
  {
   "cell_type": "markdown",
   "metadata": {
    "collapsed": true
   },
   "source": [
    "\n",
    "### ANSWERS: \n",
    "\n",
    "This dataset has total 16860 observations. It can be divided into two groups. \n",
    "* The first group is missing \"Number of Discharges\" information. There are 5282 observations in this group. \n",
    "* The rest does have \"Number of Discharges\" information. There are 11578 observaions in this group. \n",
    "\n",
    "The scatter plot given in the report plots \"Number of Discharges\" versus \"Excess Readmission Rate\". It naturally only uses the second group since the first group has null values for the Number of Discharges column. \n",
    "\n",
    "We note that approximately 40% of the first group (over 2000 rows) has non-null values in its \"Excess Readmission Rate\" column. Although the scatter plot implies that the rate of readmissions is trending down with increasing number of discharges, we should be careful to draw a conclusion because the plot does not include the entire \"Excess Readmission Rate\" data. \n",
    "\n",
    "\n",
    "* Null hypothesis: \n",
    " under100over1 (facilities with number of discharges < 100) \n",
    " has higher excess ratio than that of \n",
    " over1000 (facilities with number of discharges > 1000)\n",
    " \n",
    "* With the current mean difference 0.04%, we compute the 99% confidence interval and obtained (0.0245108, 0.06309301). Assuming the sample data is a good representative, this implies that there is indeed a difference in the excess readmiddion rate between small capacity facilities and large capacity facilities. \n",
    "\n",
    "Practically, merging hospital is not feasible. Constructing new buildings, merging databases, and many other factors need to be considered.\n",
    "\n",
    "We point out that the report assumes that the number of discharges is positively correlated to the hospital capacity. This may or may not be true. Even if the correlation can be proven, there may also be other important factors than the number of discharges that contribute to the excess readmssion rate. "
   ]
  },
  {
   "cell_type": "code",
   "execution_count": 257,
   "metadata": {},
   "outputs": [
    {
     "data": {
      "text/plain": [
       "Number_of_Discharges       -1308.710474\n",
       "Excess_Readmission_Ratio       0.044283\n",
       "dtype: float64"
      ]
     },
     "execution_count": 257,
     "metadata": {},
     "output_type": "execute_result"
    }
   ],
   "source": [
    "under100over1.mean()-over1000.mean()"
   ]
  },
  {
   "cell_type": "code",
   "execution_count": 226,
   "metadata": {},
   "outputs": [],
   "source": [
    "# Define bootstrap functions:\n",
    "def replicate(data, function):\n",
    "    \"\"\"Return replicate of a resampled data array.\"\"\"\n",
    "    \n",
    "    # Create the resampled array and return the statistic of interest:\n",
    "    return function(np.random.choice(data, size=len(data)))"
   ]
  },
  {
   "cell_type": "code",
   "execution_count": 258,
   "metadata": {},
   "outputs": [
    {
     "name": "stdout",
     "output_type": "stream",
     "text": [
      "99.9% Confidence Interval: [0.0245108  0.06309301]\n"
     ]
    }
   ],
   "source": [
    "def draw_replicates(data, function, size=1):\n",
    "    \"\"\"Draw bootstrap replicates.\"\"\"\n",
    "\n",
    "    # Initialize array of replicates:\n",
    "    replicates = np.empty(size)\n",
    "\n",
    "    # Generate replicates:\n",
    "    for i in range(size):\n",
    "        replicates[i] = replicate(data, function)\n",
    "\n",
    "    return replicates\n",
    "\n",
    "replicates_under100 = draw_replicates(under100over1.Excess_Readmission_Ratio, np.mean, 10000)\n",
    "replicates_over1000 = draw_replicates(over1000.Excess_Readmission_Ratio, np.mean, 10000)\n",
    "\n",
    "# Compute the 99.9% confidence interval:\n",
    "CI = np.percentile(replicates_under100 - replicates_over1000, [0.05, 99.95])\n",
    "print('99.9% Confidence Interval:', CI)"
   ]
  },
  {
   "cell_type": "code",
   "execution_count": 263,
   "metadata": {},
   "outputs": [
    {
     "name": "stdout",
     "output_type": "stream",
     "text": [
      "99.9% Confidence Interval: [0.01806176 0.0532745 ]\n"
     ]
    }
   ],
   "source": [
    "def draw_replicates(data, function, size=1):\n",
    "    \"\"\"Draw bootstrap replicates.\"\"\"\n",
    "\n",
    "    # Initialize array of replicates:\n",
    "    replicates = np.empty(size)\n",
    "\n",
    "    # Generate replicates:\n",
    "    for i in range(size):\n",
    "        replicates[i] = replicate(data, function)\n",
    "\n",
    "    return replicates\n",
    "\n",
    "replicates_under100 = draw_replicates(under100over1.Excess_Readmission_Ratio, np.mean, 10000)\n",
    "replicates_over1000 = draw_replicates(over1000.Excess_Readmission_Ratio, np.mean, 10000)\n",
    "\n",
    "# Compute the 99.9% confidence interval:\n",
    "CI = np.percentile(replicates_under100 - replicates_over1000, [0.05, 99.95])\n",
    "print('99.9% Confidence Interval:', CI)"
   ]
  },
  {
   "cell_type": "code",
   "execution_count": 301,
   "metadata": {},
   "outputs": [
    {
     "data": {
      "image/png": "[encoded data removed]",
      "text/plain": [
       "<Figure size 432x288 with 1 Axes>"
      ]
     },
     "metadata": {},
     "output_type": "display_data"
    }
   ],
   "source": [
    "_=plt.hist(replicates_under100 - replicates_over1000, bins=30, density=True)\n",
    "plt.show()"
   ]
  },
  {
   "cell_type": "code",
   "execution_count": 330,
   "metadata": {},
   "outputs": [
    {
     "data": {
      "text/plain": [
       "[<matplotlib.lines.Line2D at 0x1a28348b70>]"
      ]
     },
     "execution_count": 330,
     "metadata": {},
     "output_type": "execute_result"
    },
    {
     "data": {
      "image/png": "[encoded data removed]",
      "text/plain": [
       "<Figure size 720x360 with 2 Axes>"
      ]
     },
     "metadata": {},
     "output_type": "display_data"
    }
   ],
   "source": [
    "plt.subplots(figsize=(10,5))\n",
    "plt.subplot(1,2,1)\n",
    "plt.plot(sorted(clean_hospital_read_df.Number_of_Discharges/clean_hospital_read_df.Excess_Readmission_Ratio), marker=\".\", linestyle=\"none\")\n",
    "plt.subplot(1,2,2)\n",
    "plt.yscale(\"log\")\n",
    "plt.plot(sorted(clean_hospital_read_df.Number_of_Discharges/clean_hospital_read_df.Excess_Readmission_Ratio), marker=\".\", linestyle=\"none\")"
   ]
  },
  {
   "cell_type": "code",
   "execution_count": null,
   "metadata": {},
   "outputs": [],
   "source": []
  }
 ],
 "metadata": {
  "anaconda-cloud": {},
  "kernelspec": {
   "display_name": "Python 3",
   "language": "python",
   "name": "python3"
  },
  "language_info": {
   "codemirror_mode": {
    "name": "ipython",
    "version": 3
   },
   "file_extension": ".py",
   "mimetype": "text/x-python",
   "name": "python",
   "nbconvert_exporter": "python",
   "pygments_lexer": "ipython3",
   "version": "3.7.0"
  }
 },
 "nbformat": 4,
 "nbformat_minor": 1
}

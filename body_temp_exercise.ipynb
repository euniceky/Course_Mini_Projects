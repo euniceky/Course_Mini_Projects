{
 "cells": [
  {
   "cell_type": "markdown",
   "metadata": {},
   "source": [
    "<h3>Exercises</h3>\n",
    "\n",
    "<p>In this exercise, you will analyze a dataset of human body temperatures and employ the concepts of hypothesis testing, confidence intervals, and statistical significance.</p>\n",
    "\n",
    "<p>Answer the following questions <b>in this notebook below and submit to your Github account</b>.</p> \n",
    "\n",
    "<ol>\n",
    "<li>  Is the distribution of body temperatures normal? \n",
    "    <ul>\n",
    "    <li> Although this is not a requirement for the Central Limit Theorem to hold (read the introduction on Wikipedia's page about the CLT carefully: https://en.wikipedia.org/wiki/Central_limit_theorem), it gives us some peace of mind that the population may also be normally distributed if we assume that this sample is representative of the population.\n",
    "    <li> Think about the way you're going to check for the normality of the distribution. Graphical methods are usually used first, but there are also other ways: https://en.wikipedia.org/wiki/Normality_test\n",
    "    </ul>\n",
    "<li>  Is the sample size large? Are the observations independent?\n",
    "    <ul>\n",
    "    <li> Remember that this is a condition for the Central Limit Theorem, and hence the statistical tests we are using, to apply.\n",
    "    </ul>\n",
    "<li>  Is the true population mean really 98.6 degrees F?\n",
    "    <ul>\n",
    "    <li> First, try a bootstrap hypothesis test.\n",
    "    <li> Now, let's try frequentist statistical testing. Would you use a one-sample or two-sample test? Why?\n",
    "    <li> In this situation, is it appropriate to use the $t$ or $z$ statistic? \n",
    "    <li> Now try using the other test. How is the result be different? Why?\n",
    "    </ul>\n",
    "<li>  Draw a small sample of size 10 from the data and repeat both frequentist tests. \n",
    "    <ul>\n",
    "    <li> Which one is the correct one to use? \n",
    "    <li> What do you notice? What does this tell you about the difference in application of the $t$ and $z$ statistic?\n",
    "    </ul>\n",
    "<li>  At what temperature should we consider someone's temperature to be \"abnormal\"?\n",
    "    <ul>\n",
    "    <li> As in the previous example, try calculating everything using the boostrap approach, as well as the frequentist approach.\n",
    "    <li> Start by computing the margin of error and confidence interval. When calculating the confidence interval, keep in mind that you should use the appropriate formula for one draw, and not N draws.\n",
    "    </ul>\n",
    "<li>  Is there a significant difference between males and females in normal temperature?\n",
    "    <ul>\n",
    "    <li> What testing approach did you use and why?\n",
    "    <li> Write a story with your conclusion in the context of the original problem.\n",
    "    </ul>\n",
    "</ol>"
   ]
  },
  {
   "cell_type": "code",
   "execution_count": 8,
   "metadata": {},
   "outputs": [],
   "source": [
    "import matplotlib.pyplot as plt\n",
    "import numpy as np\n",
    "import scipy.stats as stats\n",
    "import seaborn as sns\n",
    "import pandas as pd\n",
    "\n",
    "# Set the default plot style\n",
    "sns.set()\n",
    "\n",
    "df = pd.read_csv('data/human_body_temperature.csv')"
   ]
  },
  {
   "cell_type": "code",
   "execution_count": 9,
   "metadata": {},
   "outputs": [
    {
     "data": {
      "text/html": [
       "<div>\n",
       "<style scoped>\n",
       "    .dataframe tbody tr th:only-of-type {\n",
       "        vertical-align: middle;\n",
       "    }\n",
       "\n",
       "    .dataframe tbody tr th {\n",
       "        vertical-align: top;\n",
       "    }\n",
       "\n",
       "    .dataframe thead th {\n",
       "        text-align: right;\n",
       "    }\n",
       "</style>\n",
       "<table border=\"1\" class=\"dataframe\">\n",
       "  <thead>\n",
       "    <tr style=\"text-align: right;\">\n",
       "      <th></th>\n",
       "      <th>temperature</th>\n",
       "      <th>gender</th>\n",
       "      <th>heart_rate</th>\n",
       "    </tr>\n",
       "  </thead>\n",
       "  <tbody>\n",
       "    <tr>\n",
       "      <th>0</th>\n",
       "      <td>99.3</td>\n",
       "      <td>F</td>\n",
       "      <td>68.0</td>\n",
       "    </tr>\n",
       "    <tr>\n",
       "      <th>1</th>\n",
       "      <td>98.4</td>\n",
       "      <td>F</td>\n",
       "      <td>81.0</td>\n",
       "    </tr>\n",
       "    <tr>\n",
       "      <th>2</th>\n",
       "      <td>97.8</td>\n",
       "      <td>M</td>\n",
       "      <td>73.0</td>\n",
       "    </tr>\n",
       "    <tr>\n",
       "      <th>3</th>\n",
       "      <td>99.2</td>\n",
       "      <td>F</td>\n",
       "      <td>66.0</td>\n",
       "    </tr>\n",
       "    <tr>\n",
       "      <th>4</th>\n",
       "      <td>98.0</td>\n",
       "      <td>F</td>\n",
       "      <td>73.0</td>\n",
       "    </tr>\n",
       "  </tbody>\n",
       "</table>\n",
       "</div>"
      ],
      "text/plain": [
       "   temperature gender  heart_rate\n",
       "0         99.3      F        68.0\n",
       "1         98.4      F        81.0\n",
       "2         97.8      M        73.0\n",
       "3         99.2      F        66.0\n",
       "4         98.0      F        73.0"
      ]
     },
     "execution_count": 9,
     "metadata": {},
     "output_type": "execute_result"
    }
   ],
   "source": [
    "df.head()"
   ]
  },
  {
   "cell_type": "code",
   "execution_count": 10,
   "metadata": {},
   "outputs": [
    {
     "data": {
      "text/html": [
       "<div>\n",
       "<style scoped>\n",
       "    .dataframe tbody tr th:only-of-type {\n",
       "        vertical-align: middle;\n",
       "    }\n",
       "\n",
       "    .dataframe tbody tr th {\n",
       "        vertical-align: top;\n",
       "    }\n",
       "\n",
       "    .dataframe thead th {\n",
       "        text-align: right;\n",
       "    }\n",
       "</style>\n",
       "<table border=\"1\" class=\"dataframe\">\n",
       "  <thead>\n",
       "    <tr style=\"text-align: right;\">\n",
       "      <th></th>\n",
       "      <th>temperature</th>\n",
       "      <th>heart_rate</th>\n",
       "    </tr>\n",
       "  </thead>\n",
       "  <tbody>\n",
       "    <tr>\n",
       "      <th>count</th>\n",
       "      <td>130.000000</td>\n",
       "      <td>130.000000</td>\n",
       "    </tr>\n",
       "    <tr>\n",
       "      <th>mean</th>\n",
       "      <td>98.249231</td>\n",
       "      <td>73.761538</td>\n",
       "    </tr>\n",
       "    <tr>\n",
       "      <th>std</th>\n",
       "      <td>0.733183</td>\n",
       "      <td>7.062077</td>\n",
       "    </tr>\n",
       "    <tr>\n",
       "      <th>min</th>\n",
       "      <td>96.300000</td>\n",
       "      <td>57.000000</td>\n",
       "    </tr>\n",
       "    <tr>\n",
       "      <th>25%</th>\n",
       "      <td>97.800000</td>\n",
       "      <td>69.000000</td>\n",
       "    </tr>\n",
       "    <tr>\n",
       "      <th>50%</th>\n",
       "      <td>98.300000</td>\n",
       "      <td>74.000000</td>\n",
       "    </tr>\n",
       "    <tr>\n",
       "      <th>75%</th>\n",
       "      <td>98.700000</td>\n",
       "      <td>79.000000</td>\n",
       "    </tr>\n",
       "    <tr>\n",
       "      <th>max</th>\n",
       "      <td>100.800000</td>\n",
       "      <td>89.000000</td>\n",
       "    </tr>\n",
       "  </tbody>\n",
       "</table>\n",
       "</div>"
      ],
      "text/plain": [
       "       temperature  heart_rate\n",
       "count   130.000000  130.000000\n",
       "mean     98.249231   73.761538\n",
       "std       0.733183    7.062077\n",
       "min      96.300000   57.000000\n",
       "25%      97.800000   69.000000\n",
       "50%      98.300000   74.000000\n",
       "75%      98.700000   79.000000\n",
       "max     100.800000   89.000000"
      ]
     },
     "execution_count": 10,
     "metadata": {},
     "output_type": "execute_result"
    }
   ],
   "source": [
    "df.describe()"
   ]
  },
  {
   "cell_type": "markdown",
   "metadata": {},
   "source": [
    "### 1. Is the distribution of body temperatures normal?\n",
    "    \n",
    "Answer:  Assuming that this sample is representative of the true population, the population temperatures is approximately normal. Most of the observations are clustered in the center (mean) and there are few observations on either end. \n",
    "\n"
   ]
  },
  {
   "cell_type": "code",
   "execution_count": 11,
   "metadata": {},
   "outputs": [
    {
     "data": {
      "image/png": "[encoded data removed]",
      "text/plain": [
       "<Figure size 432x288 with 1 Axes>"
      ]
     },
     "metadata": {},
     "output_type": "display_data"
    }
   ],
   "source": [
    "tempmean=df.temperature.mean()\n",
    "tempstd = df.temperature.std()\n",
    "# Plot the temperature data\n",
    "df.temperature.hist(bins=30, density=True)\n",
    "x = np.linspace(tempmean - 3.5*tempstd, tempmean + 3.5*tempstd, 100)\n",
    "plt.plot(x, stats.norm.pdf(x, tempmean, tempstd))\n",
    "plt.show()"
   ]
  },
  {
   "cell_type": "markdown",
   "metadata": {
    "collapsed": true
   },
   "source": [
    "### 2. Is the sample size large? Are the observations independent? Remember that this is a condition for the Central Limit Theorem, and hence the statistical tests we are using, to apply.\n",
    "\n",
    "Answer: Yes, the sample size (130) is bigger than 30. Since the true human population is very large, we can consider selecting 130 observations as an independent process. The rule of thumb is the sample size is less than 10% of the total population. \n"
   ]
  },
  {
   "cell_type": "markdown",
   "metadata": {},
   "source": [
    "### 3. Is the true population mean really 98.6 degrees F?\n",
    "\n",
    "* First, try a bootstrap hypothesis test.\n",
    "* Now, let's try frequentist statistical testing. Would you use a one-sample or two-sample test? Why?\n",
    "* In this situation, is it appropriate to use the $t$ or $z$ statistic? \n",
    "* Now try using the other test. How is the result be different? Why?"
   ]
  },
  {
   "cell_type": "markdown",
   "metadata": {},
   "source": [
    "### Answers for Q3 in steps (Want to double check if the approach is correct/reasonable)\n",
    "#### First using bootstrap hypothesis test: \n",
    "\n",
    "Null hypothesis: The true mean is 98.6. \n",
    "\n",
    "For a bootstrap hypothesis test, we shift our sample data such that the mean is 98.6. \n",
    "\n",
    "Then using the sample distribution, we find the probability that the sample mean is at least as low as x_bar (approximately 98.25) assuming the true mean is 98.6."
   ]
  },
  {
   "cell_type": "code",
   "execution_count": 12,
   "metadata": {},
   "outputs": [
    {
     "data": {
      "image/png": "[encoded data removed]",
      "text/plain": [
       "<Figure size 432x288 with 1 Axes>"
      ]
     },
     "metadata": {},
     "output_type": "display_data"
    }
   ],
   "source": [
    "# Shift the sample\n",
    "temp_shifted = df.temperature - df.temperature.mean()+98.6\n",
    "\n",
    "# Initialize empty array of size 10000\n",
    "sampledist = np.empty(10000)\n",
    "\n",
    "# For each i, randomly choose 130 'with replacement' and compute its mean. \n",
    "for i in range(10000):\n",
    "    sampledist[i]=np.mean(np.random.choice(temp_shifted, 130))\n",
    "    \n",
    "# Draw a histogram with the density parameter true. This makes the total area 1. \n",
    "_=plt.hist(sampledist, bins=30, density=True)\n",
    "plt.show()"
   ]
  },
  {
   "cell_type": "code",
   "execution_count": 13,
   "metadata": {},
   "outputs": [
    {
     "name": "stdout",
     "output_type": "stream",
     "text": [
      "0.0000000000\n"
     ]
    }
   ],
   "source": [
    "# Find the mean and standard deviation of the sample data. \n",
    "x_bar=df.temperature.mean()\n",
    "sigma_xbar = df.temperature.std()\n",
    "\n",
    "\n",
    "# Compute the p-value\n",
    "p_val = np.sum(sampledist<=x_bar)/len(sampledist) \n",
    "print(format(p_val, '.10f'))"
   ]
  },
  {
   "cell_type": "markdown",
   "metadata": {},
   "source": [
    "According to this sample, there is almost 0% probability to have mean 98.2 if the true mean is 98.6. We will reject the null hypothesis that the true mean is 98.6."
   ]
  },
  {
   "cell_type": "code",
   "execution_count": null,
   "metadata": {},
   "outputs": [],
   "source": []
  },
  {
   "cell_type": "markdown",
   "metadata": {},
   "source": [
    "#### Frequentist method:\n",
    "\n",
    "We will use two tail test because we are interested in the probability of sample mean being off from 98.6. \n",
    "\n",
    "Z-statistic is appropriate since the sample distribution is very close to normal. We can typically assume normality when the sample size is larger than 30. Our sample size is 130. \n",
    "\n",
    "We estimate the standard deviation for the sample distribution. Let us denote that by std_sd. Call the standard devation for the true population std_tp. Then the two quantities can be related using the sample size. \n",
    "\n",
    "<center>\n",
    "std_sd = std_tp / sqrt(sample size)\n",
    "</center>\n",
    "\n",
    "However, std_tp is unknown. The standard deviation of the sample is our best guess for std_tp. \n",
    "\n",
    "<center>\n",
    "Standard Error (SE) = sigma_xbar / sqrt(130)\n",
    "</center>"
   ]
  },
  {
   "cell_type": "code",
   "execution_count": 14,
   "metadata": {},
   "outputs": [
    {
     "name": "stdout",
     "output_type": "stream",
     "text": [
      "-5.454823292364079\n"
     ]
    }
   ],
   "source": [
    "# Standard Error\n",
    "SE = sigma_xbar/np.sqrt(130)\n",
    "# z_score\n",
    "z_score = (x_bar-98.6)/(SE)\n",
    "print(z_score)"
   ]
  },
  {
   "cell_type": "markdown",
   "metadata": {},
   "source": [
    "We see from the above result that the observed sample mean, x_bar = 98.2, is more than 5 standard deviations away from the assumed sample mean 98.6. \n",
    "\n",
    "Python has a built in function to get the p-value assuming the sample distrubtion is normal. "
   ]
  },
  {
   "cell_type": "code",
   "execution_count": 33,
   "metadata": {},
   "outputs": [
    {
     "name": "stdout",
     "output_type": "stream",
     "text": [
      "0.0000000245\n"
     ]
    }
   ],
   "source": [
    "# p-value using z-statistic\n",
    "p_z = stats.norm.cdf(x_bar, 98.6, SE)\n",
    "print(format(p_z, \".10f\"))"
   ]
  },
  {
   "cell_type": "markdown",
   "metadata": {},
   "source": [
    "What if we use the t-statistic? We need to know the degree of freedom = the sample size - 1"
   ]
  },
  {
   "cell_type": "code",
   "execution_count": 16,
   "metadata": {},
   "outputs": [
    {
     "name": "stdout",
     "output_type": "stream",
     "text": [
      "0.0000001205\n"
     ]
    }
   ],
   "source": [
    "# p-value using t-statistic\n",
    "dof = 129\n",
    "p_t = stats.t.cdf(x_bar, dof, loc=98.6, scale=SE)\n",
    "print(format(p_t, \".10f\"))"
   ]
  },
  {
   "cell_type": "markdown",
   "metadata": {},
   "source": [
    "We see from p_z and p_t that the probablity of having the sample mean 98.2 is essentially zero if we assume the true temperature mean is 98.6. We still note that p_t > p_z. In general, t-statistic ensures that we do not underestimate p-values. "
   ]
  },
  {
   "cell_type": "markdown",
   "metadata": {},
   "source": [
    "### 4. Draw a small sample of size 10 from the data and repeat both frequentist tests.\n",
    "    \n",
    "* Which one is the correct one to use?\n",
    "* What do you notice? What does this tell you about the difference in application of the  t  and  z  statistic?\n",
    "    \n"
   ]
  },
  {
   "cell_type": "code",
   "execution_count": 17,
   "metadata": {},
   "outputs": [
    {
     "name": "stdout",
     "output_type": "stream",
     "text": [
      "[98.2 98.8 98.1 96.7 98.6 99.1 99.  98.8 97.4 97.8]\n"
     ]
    }
   ],
   "source": [
    "# Take a small sample \n",
    "smalldata=np.random.choice(df.temperature, 10)\n",
    "print(smalldata)"
   ]
  },
  {
   "cell_type": "code",
   "execution_count": 18,
   "metadata": {},
   "outputs": [],
   "source": [
    "# Compute the mean and the standard deviation of smalldata\n",
    "smallmean=smalldata.mean()\n",
    "smallstd=smalldata.std()"
   ]
  },
  {
   "cell_type": "markdown",
   "metadata": {},
   "source": [
    "Using smallstd is not a good choice as we are approximating the s.d. of true population with the s.d. of this small sample. I would assume that part of this exercise is to notice this. It would be better to use sigma_xbar (computed using the sample of size 130) in place of smallstd (computed using the sample of size 10).\n",
    "\n",
    "In this case, t-statistic will give us a better result."
   ]
  },
  {
   "cell_type": "code",
   "execution_count": 19,
   "metadata": {},
   "outputs": [
    {
     "name": "stdout",
     "output_type": "stream",
     "text": [
      "-1.511065121217251\n"
     ]
    }
   ],
   "source": [
    "# z-score using smalldata\n",
    "small_score = (smallmean-98.6)/(smallstd/np.sqrt(10))\n",
    "print(small_score)"
   ]
  },
  {
   "cell_type": "code",
   "execution_count": 20,
   "metadata": {},
   "outputs": [
    {
     "name": "stdout",
     "output_type": "stream",
     "text": [
      "0.08271522361371945\n"
     ]
    }
   ],
   "source": [
    "# p-value using t-statistic\n",
    "dof = 9\n",
    "p_t_small= stats.t.cdf(smallmean, 9, loc=98.6, scale=sigma_xbar/np.sqrt(10))\n",
    "print(p_t_small)"
   ]
  },
  {
   "cell_type": "code",
   "execution_count": 21,
   "metadata": {},
   "outputs": [
    {
     "name": "stdout",
     "output_type": "stream",
     "text": [
      "0.0653859300276436\n"
     ]
    }
   ],
   "source": [
    "p_z_small= stats.norm.cdf(smallmean, 98.6, smallstd/np.sqrt(10))\n",
    "print(p_z_small)"
   ]
  },
  {
   "cell_type": "code",
   "execution_count": 22,
   "metadata": {},
   "outputs": [
    {
     "data": {
      "text/plain": [
       "[<matplotlib.lines.Line2D at 0x1a23e97b00>]"
      ]
     },
     "execution_count": 22,
     "metadata": {},
     "output_type": "execute_result"
    },
    {
     "data": {
      "image/png": "[encoded data removed]",
      "text/plain": [
       "<Figure size 720x360 with 2 Axes>"
      ]
     },
     "metadata": {},
     "output_type": "display_data"
    }
   ],
   "source": [
    "plt.figure(figsize=(10, 5))\n",
    "plt.subplot(1,2,1)\n",
    "plt.plot(smalldata, stats.t.pdf(smalldata, dof, loc=98.6, scale=smallstd/np.sqrt(10)), marker=\".\", linestyle=\"none\")\n",
    "plt.subplot(1,2,2)\n",
    "plt.plot(smalldata, stats.t.cdf(smalldata, dof, loc=98.6, scale=smallstd/np.sqrt(10)), marker=\".\", linestyle=\"none\")"
   ]
  },
  {
   "cell_type": "markdown",
   "metadata": {},
   "source": [
    "### 5. At what temperature should we consider someone's temperature to be \"abnormal\"?\n",
    "* As in the previous example, try calculating everything using the bootstrap approach, as well as the frequentist approach.\n",
    "* Start by computing the margin of error and confidence interval. When calculating the confidence interval, keep in mind that you should use the appropriate formula for one draw, and not N draws."
   ]
  },
  {
   "cell_type": "markdown",
   "metadata": {},
   "source": [
    "#### Frequentist method: \n",
    "\n",
    "#### Question???? \n",
    "\n",
    "Do we assume true mean is 98.6, and compute the confidence interval around 98.6? I thought the confidence interval is typically found around an observed statistic to write a statement something like: \n",
    "\n",
    "We are confident that there is a 95% probability that true mean (unknown) is within [interval] of observed mean =98.2.\n"
   ]
  },
  {
   "cell_type": "code",
   "execution_count": 34,
   "metadata": {},
   "outputs": [
    {
     "name": "stdout",
     "output_type": "stream",
     "text": [
      "[96.81221819 99.68624335]\n"
     ]
    }
   ],
   "source": [
    "# Compute the confidence interval\n",
    "conf_int= stats.norm.ppf([0.025, 0.975], x_bar, sigma_xbar)\n",
    "print(conf_int)"
   ]
  },
  {
   "cell_type": "markdown",
   "metadata": {},
   "source": [
    "#### Bootstrap method: "
   ]
  },
  {
   "cell_type": "code",
   "execution_count": 31,
   "metadata": {},
   "outputs": [
    {
     "data": {
      "text/plain": [
       "array([96.7225, 99.4775])"
      ]
     },
     "execution_count": 31,
     "metadata": {},
     "output_type": "execute_result"
    }
   ],
   "source": [
    "# confidence interval 95%\n",
    "# margin of error = SE * z-score\n",
    "np.percentile(df.temperature, [2.5, 97.5])"
   ]
  },
  {
   "cell_type": "markdown",
   "metadata": {},
   "source": [
    "### 6. Is there a significant difference between males and females in normal temperature?\n",
    "What testing approach did you use and why?\n",
    "Write a story with your conclusion in the context of the original problem."
   ]
  },
  {
   "cell_type": "markdown",
   "metadata": {},
   "source": [
    "#### Shuffling:\n",
    "\n",
    "The sample contains body temperatures of 65 male and 65 female. The difference in means, stored in the variable obsdiff, is ~0.29. We assume that this sample represents the true population well. \n",
    "\n",
    "We will shuffle the data and relabel the first 65 entries as female, the next 65 entries as male. We will repeat this 10000 times and compute the difference in means. \n",
    "\n",
    "Using this sample distribution of difference in means,we will compute the probability that the difference is at least 0.29 or bigger. "
   ]
  },
  {
   "cell_type": "code",
   "execution_count": 25,
   "metadata": {},
   "outputs": [
    {
     "data": {
      "text/plain": [
       "0.289230769230727"
      ]
     },
     "execution_count": 25,
     "metadata": {},
     "output_type": "execute_result"
    }
   ],
   "source": [
    "female=df[df.gender ==\"F\"].temperature\n",
    "male= df[df.gender==\"M\"].temperature\n",
    "obsdiff=female.mean()-male.mean()\n",
    "obsdiff"
   ]
  },
  {
   "cell_type": "code",
   "execution_count": 26,
   "metadata": {},
   "outputs": [
    {
     "data": {
      "image/png": "[encoded data removed]",
      "text/plain": [
       "<Figure size 432x288 with 1 Axes>"
      ]
     },
     "metadata": {},
     "output_type": "display_data"
    }
   ],
   "source": [
    "# Initialize the sample distribution of diffence in means\n",
    "samplediff = np.empty(10000)\n",
    "\n",
    "# Shuffle and find the difference in means 10000 times\n",
    "for i in range(10000):\n",
    "    perm=np.random.permutation(df.temperature)\n",
    "    female_perm = perm[:65]\n",
    "    male_perm = perm[65:]\n",
    "    samplediff[i]=female_perm.mean()-male_perm.mean()\n",
    "\n",
    "_=plt.hist(samplediff, bins=30, density=True)\n",
    "plt.show()"
   ]
  },
  {
   "cell_type": "code",
   "execution_count": 27,
   "metadata": {},
   "outputs": [
    {
     "name": "stdout",
     "output_type": "stream",
     "text": [
      "0.0109000000\n"
     ]
    }
   ],
   "source": [
    "# p_value\n",
    "p_diff_val = np.sum(samplediff>=obsdiff)/len(samplediff) \n",
    "print(format(p_diff_val, '.10f'))"
   ]
  },
  {
   "cell_type": "markdown",
   "metadata": {},
   "source": [
    "#### Frequentist method: \n",
    "\n",
    "Define a new random variable X which denotes the difference between the mean body temperature of female population and th mean body temperature of male population M. \n",
    "\n",
    "Null hypothesis: we assume F and M have the same means, which implies X has mean 0. \n",
    "\n",
    "Var of X  = Var of sample distribution of sample mean of F + Var of sample distribuation of sample mean of M\n",
    "\n",
    "std of X= np.sqrt(female.var()/65 + male.var()/65)"
   ]
  },
  {
   "cell_type": "code",
   "execution_count": 28,
   "metadata": {},
   "outputs": [
    {
     "data": {
      "text/plain": [
       "0.011143680380338639"
      ]
     },
     "execution_count": 28,
     "metadata": {},
     "output_type": "execute_result"
    }
   ],
   "source": [
    "# Compute the standard deviation of X\n",
    "std_x = np.sqrt(female.var()/65 + male.var()/65)\n",
    "\n",
    "# p-value using z-statistic. \n",
    "# This is the probabiliy that the difference in means is obsdiff = 0.29 \n",
    "# assuming there is no difference in mean body temperatures for females and males \n",
    "\n",
    "# 1-cdf to get the area on the right tail\n",
    "1-stats.norm.cdf(obsdiff, 0, std_x)"
   ]
  },
  {
   "cell_type": "code",
   "execution_count": 30,
   "metadata": {},
   "outputs": [
    {
     "data": {
      "text/plain": [
       "[<matplotlib.lines.Line2D at 0x1a241137b8>]"
      ]
     },
     "execution_count": 30,
     "metadata": {},
     "output_type": "execute_result"
    },
    {
     "data": {
      "image/png": "[encoded data removed]",
      "text/plain": [
       "<Figure size 720x360 with 2 Axes>"
      ]
     },
     "metadata": {},
     "output_type": "display_data"
    }
   ],
   "source": [
    "x=np.linspace(0 - 3.5*std_x, 0+ 3.5*std_x, 100)\n",
    "plt.figure(figsize=(10, 5))\n",
    "plt.subplot(1,2,1)\n",
    "plt.plot(x, stats.norm.pdf(x, 0, std_x))\n",
    "plt.subplot(1,2,2)\n",
    "plt.plot(x, stats.norm.cdf(x, 0, std_x))"
   ]
  },
  {
   "cell_type": "code",
   "execution_count": null,
   "metadata": {},
   "outputs": [],
   "source": []
  }
 ],
 "metadata": {
  "kernelspec": {
   "display_name": "Python 3",
   "language": "python",
   "name": "python3"
  },
  "language_info": {
   "codemirror_mode": {
    "name": "ipython",
    "version": 3
   },
   "file_extension": ".py",
   "mimetype": "text/x-python",
   "name": "python",
   "nbconvert_exporter": "python",
   "pygments_lexer": "ipython3",
   "version": "3.7.0"
  }
 },
 "nbformat": 4,
 "nbformat_minor": 1
}
